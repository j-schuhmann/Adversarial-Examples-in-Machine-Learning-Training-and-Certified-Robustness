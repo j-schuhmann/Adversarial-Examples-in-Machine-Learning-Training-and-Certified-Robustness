{
 "cells": [
  {
   "cell_type": "code",
   "execution_count": 1,
   "metadata": {},
   "outputs": [],
   "source": [
    "import tensorflow as tf\n",
    "import numpy as np\n",
    "import matplotlib.pyplot as plt\n",
    "from util import mnist_data_and_preprocessing\n",
    "from adversarial_training import pgd_adversarial_training,fgsm_adversarial_training,training_model,ground_model,pgdl2_adversarial_training"
   ]
  },
  {
   "cell_type": "code",
   "execution_count": 2,
   "metadata": {},
   "outputs": [
    {
     "name": "stderr",
     "output_type": "stream",
     "text": [
      "c:\\Users\\scj41115\\AppData\\Local\\Programs\\Python\\Python311\\Lib\\site-packages\\keras\\src\\layers\\convolutional\\base_conv.py:107: UserWarning: Do not pass an `input_shape`/`input_dim` argument to a layer. When using Sequential models, prefer using an `Input(shape)` object as the first layer in the model instead.\n",
      "  super().__init__(activity_regularizer=activity_regularizer, **kwargs)\n"
     ]
    }
   ],
   "source": [
    "x_train, y_train, x_test, y_test=mnist_data_and_preprocessing()\n",
    "input_shape = (28, 28, 1)\n",
    "\n",
    "\n",
    "learning_rate =0.0001\n",
    "\n",
    "loss_object = tf.keras.losses.CategoricalCrossentropy()\n",
    "epochs = 20\n",
    "batch_size = 16\n",
    "\n",
    "step_size_attack=2.5*0.3/10\n",
    " \n",
    "pgd=pgd_adversarial_training(ground_model(input_shape),tf.keras.optimizers.Adam(learning_rate=learning_rate), loss_object,epochs,batch_size,x_train[:10000], y_train[:10000], x_test[:100], y_test[:100], epsilon_attack_train=0.3, iterations_attack_train=10, step_size_attack_train=step_size_attack)\n",
    "    \n",
    "fgsm=fgsm_adversarial_training(ground_model(input_shape), tf.keras.optimizers.Adam(learning_rate=learning_rate), loss_object,epochs,batch_size,x_train[:1000], y_train[:1000], x_test[:1000], y_test[:1000], epsilon_attack_train=0.3)\n",
    "\n",
    "pgdl2=pgdl2_adversarial_training(ground_model(input_shape),tf.keras.optimizers.Adam(learning_rate=learning_rate), loss_object,epochs,batch_size,x_train[:1000], y_train[:1000], x_test[:1000], y_test[:1000], epsilon_attack_train=1, iterations_attack_train=20, step_size_attack_train=0.1)\n",
    "\n",
    "normal=training_model(ground_model(input_shape), tf.keras.optimizers.Adam(learning_rate=learning_rate), loss_object,epochs,batch_size,x_train[:1000], y_train[:1000], x_test[:1000], y_test[:1000])\n",
    "\n",
    "\n"
   ]
  },
  {
   "cell_type": "code",
   "execution_count": null,
   "metadata": {},
   "outputs": [],
   "source": [
    "pgd.train()"
   ]
  },
  {
   "cell_type": "code",
   "execution_count": 22,
   "metadata": {},
   "outputs": [
    {
     "name": "stdout",
     "output_type": "stream",
     "text": [
      "Accuracy on test set: 0.92\n"
     ]
    },
    {
     "data": {
      "text/plain": [
       "0.92"
      ]
     },
     "execution_count": 22,
     "metadata": {},
     "output_type": "execute_result"
    }
   ],
   "source": [
    "pgd.evaluate_model_test_set()"
   ]
  },
  {
   "cell_type": "code",
   "execution_count": null,
   "metadata": {},
   "outputs": [],
   "source": [
    "pgd.attack_pgd(0.4,10,2.5*0.4/10)"
   ]
  }
 ],
 "metadata": {
  "kernelspec": {
   "display_name": "myenv",
   "language": "python",
   "name": "python3"
  },
  "language_info": {
   "codemirror_mode": {
    "name": "ipython",
    "version": 3
   },
   "file_extension": ".py",
   "mimetype": "text/x-python",
   "name": "python",
   "nbconvert_exporter": "python",
   "pygments_lexer": "ipython3",
   "version": "3.11.6"
  }
 },
 "nbformat": 4,
 "nbformat_minor": 2
}
